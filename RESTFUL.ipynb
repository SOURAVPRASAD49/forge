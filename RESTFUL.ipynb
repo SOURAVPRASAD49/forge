{
 "cells": [
  {
   "cell_type": "markdown",
   "metadata": {},
   "source": [
    "# FORGE RESTful API Endpoint Guide\n",
    "\n",
    "## Warning\n",
    "The documentation is incomplete at the moment. Feel free to contribute to its completion.\n",
    "\n",
    "## Introduction\n",
    "FORGE now supports a low-level, lightweight and efficient RESTful API with optimal endpoints. The talk-to-server frequencies are kept to a bare minimum to enforce anonymity. Also the requests and responses are designed to minimize network activity. The *stateless* endpoints provided by the FORGE RESTful API are listed in the following lines. These greatly rely on the client-side application on how the security is maintained."
   ]
  },
  {
   "cell_type": "markdown",
   "metadata": {},
   "source": [
    "## Design\n",
    "1. The API is HTTP-based so all requests and responses would come across as JSON documents with GET fetches.\n",
    "2. Every successful response from the server would have a `retncode` index to state operational status.\n",
    "3. Some responses from the server can consists of an array of JSON documents or nothing at all.\n",
    "4. Application should imbibe security-by-design principles to avoid undue load of bad requests to the API servers.\n",
    "5. There is a need of session management implemented inside the application as responses are stateless."
   ]
  },
  {
   "cell_type": "markdown",
   "metadata": {},
   "source": [
    "## Endpoints\n",
    "Keep a note that `cloudurl` refers to the reachable URL of the RESTful API server"
   ]
  },
  {
   "cell_type": "markdown",
   "metadata": {},
   "source": [
    "### Login request\n",
    "\n",
    "```python\n",
    "data = {\n",
    "    \"username\": \"<username>\",\n",
    "    \"password\": \"<password>\",\n",
    "}\n",
    "rqst = requests.get(\"<cloudurl>/entrydir/\", json = data)\n",
    "print(rqst.json())\n",
    "```\n",
    "\n",
    "The possible state operational status in response are\n",
    "* `LOGINOKE` - The username and password are checked out and match perfectly. Application can allow login for the provided username.\n",
    "* `ACNOEXST` - The username and password are checked out but no account with such username exists. Application must not allow login for the provided username.\n",
    "* `WRNGPSWD` - The username and password are checked out but do not match. Application must not allow login for the provided username."
   ]
  },
  {
   "cell_type": "markdown",
   "metadata": {},
   "source": [
    "### Account creation\n",
    "\n",
    "```python\n",
    "data = {\n",
    "    \"fullname\": \"<fullname>\",\n",
    "    \"username\": \"<username>\",\n",
    "    \"password\": \"<password>\",\n",
    "    \"emailadr\": \"<emailadr>\",\n",
    "}\n",
    "rqst = requests.get(\"<cloudurl>/makeacnt/\", json = data)\n",
    "print(make.json())\n",
    "```\n",
    "\n",
    "The possible responses are\n",
    "* `ALRDYEXT` - The username is checked with those in the database and was found to match with an existing user. Account creation has not taken place.\n",
    "* `MADEACNT` - The username is checked with those in the database and was found to not match with anyone. Account creation has taken place."
   ]
  },
  {
   "cell_type": "markdown",
   "metadata": {},
   "source": [
    "### Fetching mails for inbox\n",
    "\n",
    "```python\n",
    "data = {\n",
    "    \"username\": \"<username>\",\n",
    "}\n",
    "rqst = requests.get(\"<cloudurl>/inbxpage/\", json = data)\n",
    "print(rqst.json())\n",
    "```\n",
    "\n",
    "There is only one possible response here\n",
    "* `INBXPAGE` - The username is checked and both sent and received mails are synchronised from the server."
   ]
  }
 ],
 "metadata": {
  "kernelspec": {
   "display_name": "Python 3",
   "language": "python",
   "name": "python3"
  },
  "language_info": {
   "codemirror_mode": {
    "name": "ipython",
    "version": 3
   },
   "file_extension": ".py",
   "mimetype": "text/x-python",
   "name": "python",
   "nbconvert_exporter": "python",
   "pygments_lexer": "ipython3",
   "version": "3.8.2"
  }
 },
 "nbformat": 4,
 "nbformat_minor": 4
}