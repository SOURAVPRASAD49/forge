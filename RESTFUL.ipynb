{
 "cells": [
  {
   "cell_type": "markdown",
   "metadata": {},
   "source": [
    "# FORGE RESTful API Endpoint Guide\n",
    "\n",
    "## Warning\n",
    "The documentation is incomplete at the moment. Feel free to contribute to its completion.\n",
    "\n",
    "## Introduction\n",
    "FORGE now supports a low-level, lightweight and efficient RESTful API with optimal endpoints. The talk-to-server frequencies are kept to a bare minimum to enforce anonymity. Also the requests and responses are designed to minimize network activity. The *stateless* endpoints provided by the FORGE RESTful API are listed in the following lines. These greatly rely on the client-side application on how the security is maintained."
   ]
  },
  {
   "cell_type": "markdown",
   "metadata": {},
   "source": [
    "## Design\n",
    "1. The API is HTTP-based so all requests and responses would come across as JSON documents with GET fetches.\n",
    "2. Every successful response from the server would have a `retncode` index to state operational status.\n",
    "3. Some responses from the server can consists of an array of JSON documents or nothing at all.\n",
    "4. Application should imbibe security-by-design principles to avoid undue load of bad requests to the API servers.\n",
    "5. There is a need of session management implemented inside the application as responses are stateless."
   ]
  },
  {
   "cell_type": "markdown",
   "metadata": {},
   "source": [
    "## Endpoints\n",
    "Keep a note that `cloudurl` refers to the reachable URL of the RESTful API server"
   ]
  },
  {
   "cell_type": "markdown",
   "metadata": {},
   "source": [
    "### Login request\n",
    "\n",
    "```python\n",
    "data = {\n",
    "    \"username\": \"<username>\",\n",
    "    \"password\": \"<password>\",\n",
    "}\n",
    "rqst = requests.get(\"<cloudurl>/entrydir/\", json = data)\n",
    "print(rqst.json())\n",
    "```\n",
    "\n",
    "The request takes up\n",
    "* `USERNAME` - Username of the user.\n",
    "* `PASSWORD` - Password of the user.\n",
    "\n",
    "The possible state operational status in response are\n",
    "* `LOGINOKE` - Action status code. The username and password are checked out and match perfectly. Application can allow login for the provided username.\n",
    "* `ACNOEXST` - Action status code. The username and password are checked out but no account with such username exists. Application must not allow login for the provided username.\n",
    "* `WRNGPSWD` - Action status code. The username and password are checked out but do not match. Application must not allow login for the provided username."
   ]
  },
  {
   "cell_type": "markdown",
   "metadata": {},
   "source": [
    "### Account creation\n",
    "\n",
    "```python\n",
    "data = {\n",
    "    \"fullname\": \"<fullname>\",\n",
    "    \"username\": \"<username>\",\n",
    "    \"password\": \"<password>\",\n",
    "    \"emailadr\": \"<emailadr>\",\n",
    "}\n",
    "rqst = requests.get(\"<cloudurl>/makeacnt/\", json = data)\n",
    "print(rqst.json())\n",
    "```\n",
    "\n",
    "The request takes up\n",
    "* `FULLNAME` - Full name of the user.\n",
    "* `USERNAME` - Username of the user.\n",
    "* `PASSWORD` - Password of the user.\n",
    "* `EMAILADR` - Email address of the user.\n",
    "\n",
    "The possible responses are\n",
    "* `ALRDYEXT` - Action status code. The username is checked with those in the database and was found to match with an existing user. Account creation has not taken place.\n",
    "* `MADEACNT` - Action status code. The username is checked with those in the database and was found to not match with anyone. Account creation has taken place.\n",
    "    * `PKCSIDEN` - PKCS identity. The username for the PKCS identity which has been created is also returned."
   ]
  },
  {
   "cell_type": "markdown",
   "metadata": {},
   "source": [
    "### Composing one-to-one directives\n",
    "\n",
    "```python\n",
    "data = {\n",
    "    \"sendernm\": \"<sendernm>\",\n",
    "    \"receiver\": \"<receiver>\",\n",
    "    \"subjtext\": \"<subjtext>\",\n",
    "    \"conttext\": \"<conttext>\",\n",
    "}\n",
    "make = requests.get(\"<cloudurl>/makemail/\", json = data)\n",
    "print(make.json())\n",
    "```\n",
    "\n",
    "The request takes up\n",
    "* `SENDERNM` - Username of the sender.\n",
    "* `RECEIVER` - Username of the receiver.\n",
    "* `SUBJTEXT` - Subject of composed directive.\n",
    "* `CONTTEXT` - Contents of composed directive.\n",
    "\n",
    "The possible responses are\n",
    "* `ACNOEXST` - Action status code. The username of the receiver specified does not exist. Directive could not be dispatched.\n",
    "* `MAILSENT` - Action status code. The directive was dispatched successfully to the specified username."
   ]
  },
  {
   "cell_type": "markdown",
   "source": [
    "### Fetching mails for inbox\n",
    "\n",
    "```python\n",
    "data = {\n",
    "    \"username\": \"<username>\",\n",
    "}\n",
    "rqst = requests.get(\"<cloudurl>/inbxpage/\", json = data)\n",
    "print(rqst.json())\n",
    "```\n",
    "\n",
    "The request takes up\n",
    "* `USERNAME` - Username of the user.\n",
    "\n",
    "There is only one possible response here\n",
    "* `INBXPAGE` - Action status code. The username is checked and both sent and received mails are synchronised from the server.\n",
    "    * `RECVMAIL` - An array of embedded documents. This contains a list of received directives.\n",
    "    * `SENTMAIL` - An array of embedded documents. This contains a list of sent directives."
   ],
   "metadata": {
    "collapsed": false
   }
  },
  {
   "cell_type": "markdown",
   "source": [
    "### Removing a directive from inbox\n",
    "\n",
    "```python\n",
    "data = {\n",
    "    \"username\": \"<username>\",\n",
    "    \"paradrct\": \"<paradrct>\",\n",
    "    \"mailiden\": \"<mailiden>\",\n",
    "}\n",
    "rqst = requests.get(\"<cloudurl>/rmovmail/\", json = data)\n",
    "print(rqst.json())\n",
    "```\n",
    "\n",
    "The request takes up\n",
    "* `USERNAME` - Username of the user.\n",
    "* `PARADRCT` - Type of directive. Either `send` or `recv`.\n",
    "* `MAILIDEN` - Mail identification string.\n",
    "\n",
    "There is only one possible response here\n",
    "* `MSGRMOVD` - Action status code. The mail of the given identification has been removed."
   ],
   "metadata": {
    "collapsed": false
   }
  },
  {
   "cell_type": "markdown",
   "source": [
    "### Fetching contacts of the user\n",
    "\n",
    "```python\n",
    "data = {\n",
    "    \"username\": \"<username>\",\n",
    "}\n",
    "cont = requests.get(\"<cloudurl>/contacts/\", json = {\"username\": \"<username>\"})\n",
    "print(cont.json())\n",
    "```\n",
    "\n",
    "The request takes up\n",
    "* `USERNAME` - Username of the user.\n",
    "\n",
    "There is only one possible response here\n",
    "* `CONTACTS` - Action status code. The queried user exists and the contacts have been fetched.\n",
    "    * `CONTLIST` - An array of embedded documents. This contains a list of followed users."
   ],
   "metadata": {
    "collapsed": false
   }
  },
  {
   "cell_type": "markdown",
   "source": [
    "### Following a user\n",
    "\n",
    "```python\n",
    "data = {\n",
    "    \"username\": \"<username>\",\n",
    "    \"usercont\": \"<usercont>\",\n",
    "}\n",
    "folo = requests.get(\"<cloudurl>/folocont/\", json = data)\n",
    "print(folo.json())\n",
    "```\n",
    "\n",
    "The request takes up\n",
    "* `USERNAME` - Username of the user.\n",
    "* `USERCONT` - Username of the user you wish to follow.\n",
    "\n",
    "There is only one possible response here\n",
    "* `USERFOLD` - Action status code. The specified user is followed by you now."
   ],
   "metadata": {
    "collapsed": false
   }
  },
  {
   "cell_type": "markdown",
   "source": [
    "### Unfollowing a user\n",
    "\n",
    "```python\n",
    "data = {\n",
    "    \"username\": \"<username>\",\n",
    "    \"usercont\": \"<usercont>\",\n",
    "}\n",
    "unfo = requests.get(\"<cloudurl>/unfocont/\", json = data)\n",
    "print(unfo.json())\n",
    "```\n",
    "\n",
    "The request takes up\n",
    "* `USERNAME` - Username of the user.\n",
    "* `USERCONT` - Username of the user you wish to unfollow.\n",
    "\n",
    "There is only one possible response here\n",
    "* `USERUNFO` - Action status code. The specified user is unfollowed by you now."
   ],
   "metadata": {
    "collapsed": false
   }
  },
  {
   "cell_type": "markdown",
   "source": [
    "### Fetching mails for trashcan\n",
    "\n",
    "```python\n",
    "data = {\n",
    "    \"username\": \"<username>\",\n",
    "}\n",
    "trsh = requests.get(\"<cloudurl>/trashcan/\", json = data)\n",
    "print(trsh.json())\n",
    "```\n",
    "\n",
    "The request takes up\n",
    "* `USERNAME` - Username of the user\n",
    "\n",
    "There is only one possible response here]\n",
    "* `TRASHCAN` - Action status code. The username is checked and both sent and received mails are synchronised from the server.\n",
    "    * `RECVMAIL` - An array of embedded documents. This contains a list of received directives.\n",
    "    * `SENTMAIL` - An array of embedded documents. This contains a list of sent directives."
   ],
   "metadata": {
    "collapsed": false
   }
  },
  {
   "cell_type": "markdown",
   "source": [
    "### Restoring a mail from trashcan\n",
    "\n",
    "```python\n",
    "data = {\n",
    "    \"username\": \"<username>\",\n",
    "    \"paradrct\": \"<paradrct>\",\n",
    "    \"mailiden\": \"<mailiden>\",\n",
    "}\n",
    "rstr = requests.get(\"<cloudurl>/rstrmail/\", json = data)\n",
    "print(rstr.json())\n",
    "```\n",
    "\n",
    "The request takes up\n",
    "* `USERNAME` - Username of the user.\n",
    "* `PARADRCT` - Type of directive. Either `send` or `recv`.\n",
    "* `MAILIDEN` - Mail identification string.\n",
    "\n",
    "There is only one possible response here\n",
    "* `MSGRSTRD` - Action status code. The mail of the given identification has been restored."
   ],
   "metadata": {
    "collapsed": false
   }
  },
  {
   "cell_type": "markdown",
   "source": [
    "### Purging a mail from trashcan\n",
    "\n",
    "```python\n",
    "data = {\n",
    "    \"username\": \"<username>\",\n",
    "    \"paradrct\": \"<paradrct>\",\n",
    "    \"mailiden\": \"<mailiden>\",\n",
    "}\n",
    "purg = requests.get(\"<cloudurl>/rstrmail/\", json = data)\n",
    "print(purg.json())\n",
    "```\n",
    "\n",
    "The request takes up\n",
    "* `USERNAME` - Username of the user.\n",
    "* `PARADRCT` - Type of directive. Either `send` or `recv`.\n",
    "* `MAILIDEN` - Mail identification string.\n",
    "\n",
    "There is only one possible response here\n",
    "* `MSGPURGD` - Action status code. The mail of the given identification has been purged."
   ],
   "metadata": {
    "collapsed": false
   }
  },
  {
   "cell_type": "markdown",
   "source": [
    "### Listing all subscribed groups\n",
    "\n",
    "```python\n",
    "data = {\n",
    "    \"username\": \"<username>\",\n",
    "}\n",
    "gpls = requests.get(\"<cloudurl>/grupdata/\", json = data)\n",
    "print(gpls.json())\n",
    "```\n",
    "\n",
    "The request takes up\n",
    "* `USERNAME` - Username of the user.\n",
    "\n",
    "There is only possible response here\n",
    "* `GPLSFETC` - Action status code. The list of subscribed groups has been fetched.\n",
    "    * `GRUPLIST` - An array of embedded documents. This contains a list of subscribed groups."
   ],
   "metadata": {
    "collapsed": false
   }
  },
  {
   "cell_type": "markdown",
   "source": [
    "### Creating a new group\n",
    "\n",
    "```python\n",
    "data = {\n",
    "    \"username\": \"<username>\",\n",
    "    \"grupname\": \"<grupname>\",\n",
    "    \"namelist\": \"<namelist>\",\n",
    "}\n",
    "gpmk = requests.get(\"<cloudurl>/makegrup/\", json = data)\n",
    "print(gpmk.json())\n",
    "```\n",
    "\n",
    "The request takes up\n",
    "* `USERNAME` - Username of the user.\n",
    "* `GRUPNAME` - Name of the group.\n",
    "* `NAMELIST` - Space separated username collection.\n",
    "\n",
    "The possible responses are\n",
    "* `GRUPEXST` - Action status code. A group already exists with the same name. Group was not created.\n",
    "* `PARTNOEX` - Action status code. One or more participants do not exist. Group was not created.\n",
    "* `GRUPMADE` - Action status code. All participants were checked and add to the newly formed group.\n",
    "    * `GRUPIDEN` - Group identification string. Helps distinctly recognize groups."
   ],
   "metadata": {
    "collapsed": false
   }
  },
  {
   "cell_type": "markdown",
   "source": [
    "### Fetching mails for group inbox\n",
    "\n",
    "```python\n",
    "data = {\n",
    "    \"username\": \"<username>\",\n",
    "    \"grupiden\": \"<grupiden>\",\n",
    "}\n",
    "gpmd = requests.get(\"<cloudurl>/onegroup/\", json = data)\n",
    "print(gpmd.json())\n",
    "```\n",
    "\n",
    "The request takes up\n",
    "* `USERNAME` - Username of the user.\n",
    "* `GRUPIDEN` - Group identification string.\n",
    "\n",
    "There is only possible response here\n",
    "* `GRUPMAIL` - Action status code. Mails for the group have been successfully synchronised.\n",
    "    * `GRUPDATA` - Group information about identity and active members.\n",
    "    * `LISTMAIL` - An array of embedded documents. This contains a list of directives.\n"
   ],
   "metadata": {
    "collapsed": false
   }
  }
 ],
 "metadata": {
  "kernelspec": {
   "display_name": "Python 3",
   "language": "python",
   "name": "python3"
  },
  "language_info": {
   "codemirror_mode": {
    "name": "ipython",
    "version": 3
   },
   "file_extension": ".py",
   "mimetype": "text/x-python",
   "name": "python",
   "nbconvert_exporter": "python",
   "pygments_lexer": "ipython3",
   "version": "3.8.2"
  }
 },
 "nbformat": 4,
 "nbformat_minor": 4
}