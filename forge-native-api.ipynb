{
 "cells": [
  {
   "cell_type": "code",
   "execution_count": 2,
   "metadata": {},
   "outputs": [],
   "source": [
    "import requests"
   ]
  },
  {
   "cell_type": "code",
   "execution_count": 14,
   "metadata": {},
   "outputs": [
    {
     "name": "stdout",
     "output_type": "stream",
     "text": [
      "{'notecode': 'LOGINOK'}\n"
     ]
    }
   ],
   "source": [
    "rhea = requests.get(\"http://localhost:9696/entrydir/\", json = {\"username\":\"t0xic0der\", \"password\":\"password\"})\n",
    "print(rhea.json())"
   ]
  },
  {
   "cell_type": "code",
   "execution_count": 15,
   "metadata": {},
   "outputs": [
    {
     "name": "stdout",
     "output_type": "stream",
     "text": [
      "{'notecode': 'ALRDYEXT'}\n"
     ]
    }
   ],
   "source": [
    "make = requests.get(\"http://localhost:9696/makeacnt/\", json = {\"fullname\": \"Barry Allen\", \"username\": \"fastestmanalive\", \"password\": \"password\", \"emailadr\": \"iamflash@gmail.com\"})\n",
    "print(make.json())"
   ]
  },
  {
   "cell_type": "code",
   "execution_count": 28,
   "metadata": {},
   "outputs": [
    {
     "name": "stdout",
     "output_type": "stream",
     "text": [
      "{'notecode': 'INBXPAGE', 'recvmail': [{'conttext': 'I thought of you as a different person dude!', 'mailiden': 'e58b8376ecd4acdcdeeda3b99837c49c3d6fedba44cc7412865ae7b25bd77b202f114178470dbaaba26699c9b21ad58904b1b95ab9ef650b3fd58a67964c9577', 'srceuser': 'sherbirk', 'subjtext': 'Why are you so toxic?', 'timedata': {'date': '24', 'form': 'GMT', 'hour': '5', 'mins': '38', 'mont': {'fullform': 'March', 'tinyform': 'Mar'}, 'secs': '59', 'wday': {'fullform': 'Tuesday', 'tinyform': 'Tue'}, 'year': '2020'}}], 'sentmail': [{'conttext': 'It is okay that I am toxic. At least I am not as dumb as you are.', 'destuser': 'sherbirk', 'mailiden': 'a73ffeb23e08029e7fcff7da6dfefd3461c46c114d7c02ad17074119c1aa071b8bf25239964993a4a317c8b11b71cc76a6b723735fa3e7d6c8f397d082d91164', 'subjtext': 'So effing what?', 'timedata': {'date': '24', 'form': 'GMT', 'hour': '6', 'mins': '44', 'mont': {'fullform': 'March', 'tinyform': 'Mar'}, 'secs': '11', 'wday': {'fullform': 'Tuesday', 'tinyform': 'Tue'}, 'year': '2020'}}, {'conttext': \"Hi Alex,\\r\\n\\r\\nWe have tracked Frank's location. But I cannot do this alone. We need you for one last time.\\r\\n\\r\\nRegards,\\r\\nHudson\", 'destuser': 'alexmason', 'mailiden': 'e7a209d2461b9ee3b12bfe27070144b2c0fc8667432f811375431327b9208f38f2cbcbe5272229dccf40f7b89bc0caa90ef08e90bb484cc37a566c8de4338c12', 'subjtext': 'We need your help', 'timedata': {'date': '24', 'form': 'GMT', 'hour': '13', 'mins': '16', 'mont': {'fullform': 'March', 'tinyform': 'Mar'}, 'secs': '29', 'wday': {'fullform': 'Tuesday', 'tinyform': 'Tue'}, 'year': '2020'}}, {'conttext': 'I need help with this object oriented programming language', 'destuser': 'sherbirk', 'mailiden': 'df3fccba3d10babde252f18907bf4e39b8f1d9c190cf0776a6550b0fe3f451b61be0f9666493d04b2b374197a52c213500517dd3c55ac6bea5ced9ff55d13d59', 'subjtext': 'How to implement multiple inheritance?', 'timedata': {'date': '25', 'form': 'GMT', 'hour': '6', 'mins': '42', 'mont': {'fullform': 'March', 'tinyform': 'Mar'}, 'secs': '8', 'wday': {'fullform': 'Wednesday', 'tinyform': 'Wed'}, 'year': '2020'}}, {'conttext': 'Hello google!', 'destuser': 'jillvant', 'mailiden': '317b55cf1e971cf4d7821a7f750cfae96145e88f4d6e9817cb902d4ac1077c8d1b62ded3406e09710c26dc1fbaed6a1c268d3eab1966713046e6622d2ffb68bf', 'subjtext': 'Hello google!', 'timedata': {'date': '1', 'form': 'GMT', 'hour': '17', 'mins': '36', 'mont': {'fullform': 'May', 'tinyform': 'May'}, 'secs': '48', 'wday': {'fullform': 'Friday', 'tinyform': 'Fri'}, 'year': '2020'}}]}\n"
     ]
    }
   ],
   "source": [
    "mail = requests.get(\"http://localhost:9696/inbxpage/\", json = {\"username\": \"t0xic0der\"})\n",
    "print(mail.json())"
   ]
  },
  {
   "cell_type": "code",
   "execution_count": 40,
   "metadata": {},
   "outputs": [
    {
     "name": "stdout",
     "output_type": "stream",
     "text": [
      "{'notecode': 'TRASHCAN', 'recvmail': [{'conttext': 'Hey! I dropped this message to ask you one thing. Why are you so toxic man?', 'mailiden': '10c98ce469a7321d660d7cff1336b434144b034bb41dcc66ec424bf74779d083cbe5e03844ff72ba0bdcc9b5fc3e7dc5ad68d61eb7c83762d010b716dec4c82b', 'srceuser': 'alexmason', 'subjtext': 'Why are you so toxic?', 'timedata': {'date': '22', 'form': 'GMT', 'hour': '14', 'mins': '58', 'mont': {'fullform': 'March', 'tinyform': 'Mar'}, 'secs': '47', 'wday': {'fullform': 'Sunday', 'tinyform': 'Sun'}, 'year': '2020'}}], 'sentmail': [{'conttext': 'I am with Ajay Ghale. Help.', 'destuser': 'alexmason', 'mailiden': '244d9d7b426492ba39eb523c1d3c727b7d703df35620e65bec2ebfa96f21630a2914d9b1aebed3ef385046c87aad009d8978cf09f7724f0a0af8e288948029d1', 'subjtext': 'Need help', 'timedata': {'date': '22', 'form': 'GMT', 'hour': '10', 'mins': '2', 'mont': {'fullform': 'March', 'tinyform': 'Mar'}, 'secs': '26', 'wday': {'fullform': 'Sunday', 'tinyform': 'Sun'}, 'year': '2020'}}]}\n"
     ]
    }
   ],
   "source": [
    "trsh = requests.get(\"http://localhost:9696/trashcan/\", json = {\"username\": \"t0xic0der\"})\n",
    "print(trsh.json())"
   ]
  },
  {
   "cell_type": "code",
   "execution_count": 7,
   "metadata": {},
   "outputs": [
    {
     "name": "stdout",
     "output_type": "stream",
     "text": [
      "{'notecode': 'MAILSENT'}\n"
     ]
    }
   ],
   "source": [
    "make = requests.get(\"http://localhost:9696/makemail/\", json = {\"sendernm\": \"t0xic0der\", \"receiver\": \"jillvant\", \"subjtext\": \"Hello google!\", \"conttext\": \"Why did you give up?\"})\n",
    "print(make.json())"
   ]
  },
  {
   "cell_type": "code",
   "execution_count": 6,
   "metadata": {},
   "outputs": [
    {
     "name": "stdout",
     "output_type": "stream",
     "text": [
      "{'contlist': [{'fullname': 'Alex Mason', 'username': 'alexmason'}, {'fullname': 'Annette Birkin', 'username': 'annybirk'}, {'fullname': 'William Birkin', 'username': 'willbirk'}], 'notecode': 'CONTACTS'}\n"
     ]
    }
   ],
   "source": [
    "cont = requests.get(\"http://localhost:9696/contacts/\", json = {\"username\": \"t0xic0der\"})\n",
    "print(cont.json())"
   ]
  },
  {
   "cell_type": "code",
   "execution_count": 13,
   "metadata": {},
   "outputs": [
    {
     "name": "stdout",
     "output_type": "stream",
     "text": [
      "{'notecode': 'USERFOLD'}\n"
     ]
    }
   ],
   "source": [
    "folo = requests.get(\"http://localhost:9696/folocont/\", json = {\"username\": \"t0xic0der\", \"usercont\": \"jillvant\"})\n",
    "print(folo.json())"
   ]
  },
  {
   "cell_type": "code",
   "execution_count": 12,
   "metadata": {},
   "outputs": [
    {
     "name": "stdout",
     "output_type": "stream",
     "text": [
      "{'notecode': 'USERUNFO'}\n"
     ]
    }
   ],
   "source": [
    "unfo = requests.get(\"http://localhost:9696/unfocont/\", json = {\"username\": \"t0xic0der\", \"usercont\": \"jillvant\"})\n",
    "print(unfo.json())"
   ]
  },
  {
   "cell_type": "code",
   "execution_count": 27,
   "metadata": {},
   "outputs": [
    {
     "name": "stdout",
     "output_type": "stream",
     "text": [
      "{'notecode': 'MSGRMOVD'}\n"
     ]
    }
   ],
   "source": [
    "rmov = requests.get(\"http://localhost:9696/rmovmail/\", json = {\"username\": \"t0xic0der\", \"paradrct\": \"send\", \"mailiden\": \"e195c1b34441e220f8d961b306277f18725975887b6deb35073542faafb05aa80998e4bc0c2123000c73c77e58643233ef67fc0e78bb48c103c3f7b7e30c1ed1\"})\n",
    "print(rmov.json())"
   ]
  },
  {
   "cell_type": "code",
   "execution_count": 30,
   "metadata": {},
   "outputs": [
    {
     "name": "stdout",
     "output_type": "stream",
     "text": [
      "{'notecode': 'MSGPURGD'}\n"
     ]
    }
   ],
   "source": [
    "purg = requests.get(\"http://localhost:9696/purgemsg/\", json = {\"username\": \"t0xic0der\", \"paradrct\": \"send\", \"mailiden\": \"e195c1b34441e220f8d961b306277f18725975887b6deb35073542faafb05aa80998e4bc0c2123000c73c77e58643233ef67fc0e78bb48c103c3f7b7e30c1ed1\"})\n",
    "print(purg.json())"
   ]
  },
  {
   "cell_type": "code",
   "execution_count": 24,
   "metadata": {},
   "outputs": [
    {
     "name": "stdout",
     "output_type": "stream",
     "text": [
      "{'notecode': 'MSGRSTRD'}\n"
     ]
    }
   ],
   "source": [
    "rstr = requests.get(\"http://localhost:9696/rstrmail/\", json = {\"username\": \"t0xic0der\", \"paradrct\": \"recv\", \"mailiden\": \"e58b8376ecd4acdcdeeda3b99837c49c3d6fedba44cc7412865ae7b25bd77b202f114178470dbaaba26699c9b21ad58904b1b95ab9ef650b3fd58a67964c9577\"})\n",
    "print(rstr.json())"
   ]
  },
  {
   "cell_type": "code",
   "execution_count": 32,
   "metadata": {},
   "outputs": [
    {
     "name": "stdout",
     "output_type": "stream",
     "text": [
      "{'gruplist': [{'grupiden': '6222e3958c10c556482a0cd0b2a4a15a5c559270aaaaf4c3138270d0bae7b921a90602b296e9fec4f3bd2b7d988c1d6d80ac049a75ca9f6614a053ab96f78bb2', 'grupname': 'GeiPeopleUnited', 'ownrname': 'alexmason'}, {'grupiden': '9b5fc2d09096c4ac4f2ad4f08291c0f5ffd8729993d145f80b657a7ad4d1d513d5832856ff20da6842d8fbf228cf67de82ed9255f9461fd1206e85b3f919b877', 'grupname': 'TheSecretMessagingGroup', 'ownrname': 't0xic0der'}, {'grupiden': 'fef0521ea2f6d6c5f9bd2eb4dce7ef3532552ca9dd0984a1c8c3a47f8df4d80b6c7c329816731a9943a3e7d53e58582934db3da8d746ef44c66b23a5e7bca08e', 'grupname': 'BlindingLightsTeam', 'ownrname': 'alexmason'}], 'notecode': 'GPLSFETC'}\n"
     ]
    }
   ],
   "source": [
    "gpls = requests.get(\"http://localhost:9696/grupdata/\", json = {\"username\": \"t0xic0der\"})\n",
    "print(gpls.json())"
   ]
  },
  {
   "cell_type": "code",
   "execution_count": 43,
   "metadata": {},
   "outputs": [
    {
     "name": "stdout",
     "output_type": "stream",
     "text": [
      "{'grupdata': {'grupiden': '9b5fc2d09096c4ac4f2ad4f08291c0f5ffd8729993d145f80b657a7ad4d1d513d5832856ff20da6842d8fbf228cf67de82ed9255f9461fd1206e85b3f919b877', 'grupname': 'TheSecretMessagingGroup', 'ownrname': 't0xic0der', 'userlist': ['t0xic0der', 'sherbirk', 'willbirk', 'alexmason', 'annybirk']}, 'listmail': [{'conttext': 'I am new to this group. Thanks for adding me!', 'mailiden': '658a39af0952ce5acaafbf64423d51ce8c58cfb05ac056243498910ff303693776700afd133fc98671ea393d1d12739e8886fa7cb3e8ad419bfa70cbaea55e66', 'srceuser': 'alexmason', 'subjtext': 'Hey everyone', 'timedata': {'date': '21', 'form': 'GMT', 'hour': '8', 'mins': '19', 'mont': {'fullform': 'April', 'tinyform': 'Apr'}, 'secs': '10', 'wday': {'fullform': 'Tuesday', 'tinyform': 'Tue'}, 'year': '2020'}}, {'conttext': 'This group must be used for official communication only.', 'mailiden': 'bb7bac7c4a0c99cd493be43fb9644823cca22eceb13de550cfeb1eac4c308623e611e630a3803e046f852bea0269396af2be45bc3172b65b6cd252655cda7534', 'srceuser': 't0xic0der', 'subjtext': 'A necessary information for everyone', 'timedata': {'date': '21', 'form': 'GMT', 'hour': '8', 'mins': '21', 'mont': {'fullform': 'April', 'tinyform': 'Apr'}, 'secs': '50', 'wday': {'fullform': 'Tuesday', 'tinyform': 'Tue'}, 'year': '2020'}}, {'conttext': 'This is from FBI', 'mailiden': 'ba73599726cb2f3f9f26460ba8f0faba8c8744d720dc740138f1c0ba6641e9ca83c9334d24f7f7244b1bc391c7bb5dd7f72b92089b6c06bf79a1f1403089d8af', 'srceuser': 'annybirk', 'subjtext': 'Henlo', 'timedata': {'date': '21', 'form': 'GMT', 'hour': '8', 'mins': '52', 'mont': {'fullform': 'April', 'tinyform': 'Apr'}, 'secs': '8', 'wday': {'fullform': 'Tuesday', 'tinyform': 'Tue'}, 'year': '2020'}}, {'conttext': 'This is a test message', 'mailiden': '04ccf40a00be1aac0b689c47f6fed5c6d02da48d0da0dd4664351554c63933192381784733238ac87bb90f813e58fd68cc967d1daf56a144f94820c53d27541c', 'srceuser': 't0xic0der', 'subjtext': 'Hello', 'timedata': {'date': '2', 'form': 'GMT', 'hour': '11', 'mins': '48', 'mont': {'fullform': 'May', 'tinyform': 'May'}, 'secs': '38', 'wday': {'fullform': 'Saturday', 'tinyform': 'Sat'}, 'year': '2020'}}], 'notecode': 'GRUPMAIL'}\n"
     ]
    }
   ],
   "source": [
    "gpmd = requests.get(\"http://localhost:9696/onegroup/\", json = {\"username\": \"t0xic0der\", \"grupiden\": \"9b5fc2d09096c4ac4f2ad4f08291c0f5ffd8729993d145f80b657a7ad4d1d513d5832856ff20da6842d8fbf228cf67de82ed9255f9461fd1206e85b3f919b877\"})\n",
    "print(gpmd.json())"
   ]
  },
  {
   "cell_type": "code",
   "execution_count": 36,
   "metadata": {},
   "outputs": [
    {
     "name": "stdout",
     "output_type": "stream",
     "text": [
      "{'notecode': 'PARTNOEX'}\n"
     ]
    }
   ],
   "source": [
    "# NEEDS REPAIR\n",
    "gpmk = requests.get(\"http://localhost:9696/makegrup/\", json = {\"username\": \"t0xic0der\", \"grupname\": \"WeShouldNotBeHere\", \"namelist\": \"alexmason sherbirk\"})\n",
    "print(gpmk.json())"
   ]
  },
  {
   "cell_type": "code",
   "execution_count": 37,
   "metadata": {},
   "outputs": [
    {
     "name": "stdout",
     "output_type": "stream",
     "text": [
      "{'notecode': 'SETTINGS', 'username': 't0xic0der'}\n"
     ]
    }
   ],
   "source": [
    "opto = requests.get(\"http://localhost:9696/settings/\", json = {\"username\": \"t0xic0der\"})\n",
    "print(opto.json())"
   ]
  },
  {
   "cell_type": "code",
   "execution_count": 38,
   "metadata": {},
   "outputs": [
    {
     "name": "stdout",
     "output_type": "stream",
     "text": [
      "{'notecode': 'BRODCAST', 'username': 't0xic0der'}\n"
     ]
    }
   ],
   "source": [
    "bdct = requests.get(\"http://localhost:9696/brodcast/\", json = {\"username\": \"t0xic0der\"})\n",
    "print(bdct.json())"
   ]
  },
  {
   "cell_type": "code",
   "execution_count": 39,
   "metadata": {},
   "outputs": [
    {
     "name": "stdout",
     "output_type": "stream",
     "text": [
      "{'maildict': {'conttext': 'Hello google!', 'interact': 'jillvant', 'mailiden': '317b55cf1e971cf4d7821a7f750cfae96145e88f4d6e9817cb902d4ac1077c8d1b62ded3406e09710c26dc1fbaed6a1c268d3eab1966713046e6622d2ffb68bf', 'subjtext': 'Hello google!', 'timedata': {'date': '1', 'form': 'GMT', 'hour': '17', 'mins': '36', 'mont': {'fullform': 'May', 'tinyform': 'May'}, 'secs': '48', 'wday': {'fullform': 'Friday', 'tinyform': 'Fri'}, 'year': '2020'}}, 'notecode': 'READINBX'}\n"
     ]
    }
   ],
   "source": [
    "rdib = requests.get(\"http://localhost:9696/readinbx/\", json = {\"username\": \"t0xic0der\", \"paradrct\": \"send\", \"mailiden\": \"317b55cf1e971cf4d7821a7f750cfae96145e88f4d6e9817cb902d4ac1077c8d1b62ded3406e09710c26dc1fbaed6a1c268d3eab1966713046e6622d2ffb68bf\"})\n",
    "print(rdib.json())"
   ]
  },
  {
   "cell_type": "code",
   "execution_count": 41,
   "metadata": {},
   "outputs": [
    {
     "name": "stdout",
     "output_type": "stream",
     "text": [
      "{'maildict': {'conttext': 'I am with Ajay Ghale. Help.', 'interact': 'alexmason', 'mailiden': '244d9d7b426492ba39eb523c1d3c727b7d703df35620e65bec2ebfa96f21630a2914d9b1aebed3ef385046c87aad009d8978cf09f7724f0a0af8e288948029d1', 'subjtext': 'Need help', 'timedata': {'date': '22', 'form': 'GMT', 'hour': '10', 'mins': '2', 'mont': {'fullform': 'March', 'tinyform': 'Mar'}, 'secs': '26', 'wday': {'fullform': 'Sunday', 'tinyform': 'Sun'}, 'year': '2020'}}, 'notecode': 'READTRSH'}\n"
     ]
    }
   ],
   "source": [
    "rdts = requests.get(\"http://localhost:9696/readtrsh/\", json = {\"username\": \"t0xic0der\", \"paradrct\": \"send\", \"mailiden\": \"244d9d7b426492ba39eb523c1d3c727b7d703df35620e65bec2ebfa96f21630a2914d9b1aebed3ef385046c87aad009d8978cf09f7724f0a0af8e288948029d1\"})\n",
    "print(rdts.json())"
   ]
  },
  {
   "cell_type": "code",
   "execution_count": 42,
   "metadata": {},
   "outputs": [
    {
     "name": "stdout",
     "output_type": "stream",
     "text": [
      "{'notecode': 'MAILSENT'}\n"
     ]
    }
   ],
   "source": [
    "gpcp = requests.get(\"http://localhost:9696/compgrup/\", json = {\"username\": \"t0xic0der\", \"grupiden\": \"9b5fc2d09096c4ac4f2ad4f08291c0f5ffd8729993d145f80b657a7ad4d1d513d5832856ff20da6842d8fbf228cf67de82ed9255f9461fd1206e85b3f919b877\", \"subjtext\": \"Hello\", \"conttext\": \"This is a test message\"})\n",
    "print(gpcp.json())"
   ]
  }
 ],
 "metadata": {
  "kernelspec": {
   "display_name": "Python 3",
   "language": "python",
   "name": "python3"
  },
  "language_info": {
   "codemirror_mode": {
    "name": "ipython",
    "version": 3
   },
   "file_extension": ".py",
   "mimetype": "text/x-python",
   "name": "python",
   "nbconvert_exporter": "python",
   "pygments_lexer": "ipython3",
   "version": "3.8.2"
  }
 },
 "nbformat": 4,
 "nbformat_minor": 4
}
